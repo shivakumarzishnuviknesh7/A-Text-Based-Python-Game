{
  "nbformat": 4,
  "nbformat_minor": 0,
  "metadata": {
    "colab": {
      "provenance": []
    },
    "kernelspec": {
      "name": "python3",
      "display_name": "Python 3"
    },
    "language_info": {
      "name": "python"
    }
  },
  "cells": [
    {
      "cell_type": "code",
      "execution_count": null,
      "metadata": {
        "colab": {
          "base_uri": "https://localhost:8080/"
        },
        "id": "IBGynesXDJkB",
        "outputId": "1ffc5ae0-c912-41a5-974d-5753afee45d6"
      },
      "outputs": [
        {
          "output_type": "stream",
          "name": "stdout",
          "text": [
            "Welcome to the Enhanced Adventure Game!\n",
            "You are in a grand hall. There are doors to the north and east.\n",
            "You see a key here.\n",
            "> north\n",
            "You are in a kitchen. There is a door to the south.\n",
            "> north\n",
            "You can't go that way.\n",
            "> south\n",
            "You are in a grand hall. There are doors to the north and east.\n",
            "You see a key here.\n"
          ]
        }
      ],
      "source": [
        "# Define the rooms and their descriptions\n",
        "rooms = {\n",
        "    'hall': {\n",
        "        'description': 'You are in a grand hall. There are doors to the north and east.',\n",
        "        'north': 'kitchen',\n",
        "        'east': 'dining room',\n",
        "        'item': 'key'\n",
        "    },\n",
        "    'kitchen': {\n",
        "        'description': 'You are in a kitchen. There is a door to the south.',\n",
        "        'south': 'hall'\n",
        "    },\n",
        "    'dining room': {\n",
        "        'description': 'You are in a dining room. There is a door to the west.',\n",
        "        'west': 'hall',\n",
        "        'item': 'potion'\n",
        "    }\n",
        "}\n",
        "\n",
        "# Initialize the player's current room and inventory\n",
        "current_room = 'hall'\n",
        "inventory = []\n",
        "\n",
        "# Function to describe the current room\n",
        "def describe_room(room):\n",
        "    print(rooms[room]['description'])\n",
        "    if 'item' in rooms[room]:\n",
        "        print(f'You see a {rooms[room][\"item\"]} here.')\n",
        "\n",
        "# Function to move to a new room\n",
        "def move(direction):\n",
        "    global current_room\n",
        "    if direction in rooms[current_room]:\n",
        "        current_room = rooms[current_room][direction]\n",
        "        describe_room(current_room)\n",
        "    else:\n",
        "        print('You can\\'t go that way.')\n",
        "\n",
        "# Function to pick up an item\n",
        "def pick_up(item):\n",
        "    global current_room\n",
        "    if 'item' in rooms[current_room] and rooms[current_room]['item'] == item:\n",
        "        inventory.append(item)\n",
        "        del rooms[current_room]['item']\n",
        "        print(f'You picked up the {item}.')\n",
        "    else:\n",
        "        print(f'There is no {item} here.')\n",
        "\n",
        "# Main game loop\n",
        "def game():\n",
        "    print('Welcome to the Enhanced Adventure Game!')\n",
        "    describe_room(current_room)\n",
        "    while True:\n",
        "        command = input('> ').split()\n",
        "        if len(command) == 1:\n",
        "            if command[0] in ['north', 'south', 'east', 'west']:\n",
        "                move(command[0])\n",
        "            elif command[0] == 'quit':\n",
        "                print('Thanks for playing!')\n",
        "                break\n",
        "            else:\n",
        "                print('Invalid command. Try \"north\", \"south\", \"east\", \"west\", or \"quit\".')\n",
        "        elif len(command) == 2 and command[0] == 'pick':\n",
        "            pick_up(command[1])\n",
        "        else:\n",
        "            print('Invalid command.')\n",
        "\n",
        "# Run the game\n",
        "game()\n",
        "\n"
      ]
    }
  ]
}